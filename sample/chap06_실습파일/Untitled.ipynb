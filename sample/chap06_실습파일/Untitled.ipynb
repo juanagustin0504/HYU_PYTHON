{
 "cells": [
  {
   "cell_type": "code",
   "execution_count": 2,
   "id": "871ed64d-4058-427c-8772-883d18934d2c",
   "metadata": {},
   "outputs": [
    {
     "name": "stdout",
     "output_type": "stream",
     "text": [
      "버블 정렬을 수행합니다.\n"
     ]
    },
    {
     "name": "stdin",
     "output_type": "stream",
     "text": [
      "원소 수를 입력하세요.:  5\n",
      "x[0]:  4\n",
      "x[1]:  7\n",
      "x[2]:  3\n",
      "x[3]:  5\n",
      "x[4]:  1\n"
     ]
    },
    {
     "name": "stdout",
     "output_type": "stream",
     "text": [
      "패스 1\n",
      " 4   7   3   5 + 1\n",
      " 4   7   3 + 1   5\n",
      " 4   7 + 1   3   5\n",
      " 4 + 1   7   3   5\n",
      " 1   4   7   3   5\n",
      "패스 2\n",
      " 1   4   7   3 - 5\n",
      " 1   4   7 + 3   5\n",
      " 1   4 + 3   7   5\n",
      " 1   3   4   7   5\n",
      "패스 3\n",
      " 1   3   4   7 + 5\n",
      " 1   3   4 - 5   7\n",
      " 1   3   4   5   7\n",
      "패스 4\n",
      " 1   3   4   5 - 7\n",
      " 1   3   4   5   7\n",
      "비교를 10번 했습니다.\n",
      "교환을 7번 했습니다.\n",
      "오름차순으로 정렬했습니다.\n",
      "x[0] = 1\n",
      "x[1] = 3\n",
      "x[2] = 4\n",
      "x[3] = 5\n",
      "x[4] = 7\n"
     ]
    }
   ],
   "source": [
    "%run bubble_sort1_verbose.py"
   ]
  },
  {
   "cell_type": "code",
   "execution_count": null,
   "id": "508f52c0-64df-44f5-9782-ae5090e64924",
   "metadata": {},
   "outputs": [],
   "source": []
  }
 ],
 "metadata": {
  "kernelspec": {
   "display_name": "Python [conda env:base] *",
   "language": "python",
   "name": "conda-base-py"
  },
  "language_info": {
   "codemirror_mode": {
    "name": "ipython",
    "version": 3
   },
   "file_extension": ".py",
   "mimetype": "text/x-python",
   "name": "python",
   "nbconvert_exporter": "python",
   "pygments_lexer": "ipython3",
   "version": "3.12.7"
  }
 },
 "nbformat": 4,
 "nbformat_minor": 5
}
