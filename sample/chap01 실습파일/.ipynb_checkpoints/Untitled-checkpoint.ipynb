{
 "cells": [
  {
   "cell_type": "code",
   "execution_count": 3,
   "id": "8821aed6-b783-441a-a4bd-b8a610c21424",
   "metadata": {},
   "outputs": [
    {
     "name": "stdout",
     "output_type": "stream",
     "text": [
      "세 정수의 최댓값을 구합니다.\n"
     ]
    }
   ],
   "source": [
    "print('세 정수의 최댓값을 구합니다.')\n"
   ]
  },
  {
   "cell_type": "code",
   "execution_count": 5,
   "id": "131feac5-76a0-4c5e-a84d-b4dce9a34248",
   "metadata": {},
   "outputs": [
    {
     "name": "stdin",
     "output_type": "stream",
     "text": [
      "정수 a의 값을 입력하세요.:  3\n"
     ]
    }
   ],
   "source": [
    "a = int(input('정수 a의 값을 입력하세요.: '))\n"
   ]
  },
  {
   "cell_type": "code",
   "execution_count": 7,
   "id": "266b3bbb-4636-41b9-8124-7f7e26226ad1",
   "metadata": {},
   "outputs": [
    {
     "name": "stdin",
     "output_type": "stream",
     "text": [
      "정수 b의 값을 입력하세요.:  5\n"
     ]
    }
   ],
   "source": [
    "b = int(input('정수 b의 값을 입력하세요.: '))\n"
   ]
  },
  {
   "cell_type": "code",
   "execution_count": 9,
   "id": "ad30b845-5a45-4a7c-828c-718f36184c69",
   "metadata": {},
   "outputs": [
    {
     "name": "stdin",
     "output_type": "stream",
     "text": [
      "정수 c의 값을 입력하세요.:  6\n"
     ]
    }
   ],
   "source": [
    "c = int(input('정수 c의 값을 입력하세요.: '))"
   ]
  },
  {
   "cell_type": "code",
   "execution_count": 11,
   "id": "2d1ab8cc-f8ee-48a4-9030-c64e5adc149d",
   "metadata": {},
   "outputs": [
    {
     "name": "stdout",
     "output_type": "stream",
     "text": [
      "6\n"
     ]
    }
   ],
   "source": [
    "print(c)"
   ]
  },
  {
   "cell_type": "code",
   "execution_count": null,
   "id": "001863a5-37db-4c61-ae18-698e998a86e9",
   "metadata": {},
   "outputs": [],
   "source": []
  },
  {
   "cell_type": "code",
   "execution_count": null,
   "id": "b519399b-8aa5-4ed2-98d1-32618f6db7d3",
   "metadata": {},
   "outputs": [],
   "source": []
  },
  {
   "cell_type": "code",
   "execution_count": null,
   "id": "6b2bd709-570b-4bac-81b5-a047ab09c010",
   "metadata": {},
   "outputs": [],
   "source": []
  },
  {
   "cell_type": "code",
   "execution_count": null,
   "id": "bed8d0d8-5577-4bac-95a0-1d7057225ab5",
   "metadata": {},
   "outputs": [],
   "source": []
  },
  {
   "cell_type": "code",
   "execution_count": null,
   "id": "31403443-eaca-482c-bec3-5d04aaedd7f6",
   "metadata": {},
   "outputs": [],
   "source": []
  },
  {
   "cell_type": "code",
   "execution_count": null,
   "id": "0b76944b-21a2-4d2f-94aa-f466d8ba335a",
   "metadata": {},
   "outputs": [],
   "source": []
  },
  {
   "cell_type": "code",
   "execution_count": null,
   "id": "b1d1528c-d3fa-4e83-936b-890b2ce953d4",
   "metadata": {},
   "outputs": [],
   "source": []
  },
  {
   "cell_type": "code",
   "execution_count": null,
   "id": "33b5c4e2-14f0-4f4e-851b-f40b0df79150",
   "metadata": {},
   "outputs": [],
   "source": []
  }
 ],
 "metadata": {
  "kernelspec": {
   "display_name": "Python 3 (ipykernel)",
   "language": "python",
   "name": "python3"
  },
  "language_info": {
   "codemirror_mode": {
    "name": "ipython",
    "version": 3
   },
   "file_extension": ".py",
   "mimetype": "text/x-python",
   "name": "python",
   "nbconvert_exporter": "python",
   "pygments_lexer": "ipython3",
   "version": "3.11.5"
  }
 },
 "nbformat": 4,
 "nbformat_minor": 5
}
